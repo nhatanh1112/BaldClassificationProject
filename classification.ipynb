{
 "cells": [
  {
   "cell_type": "code",
   "execution_count": null,
   "metadata": {
    "tags": []
   },
   "outputs": [],
   "source": [
    "import torch\n",
    "import os\n",
    "import glob\n",
    "import numpy as np\n",
    "import matplotlib.pyplot as plt\n",
    "import random\n",
    "import torchvision\n",
    "from typing import Any\n",
    "from torch.utils.data import Dataset, DataLoader, random_split\n",
    "from torch.utils.tensorboard import SummaryWriter\n",
    "from PIL import Image\n",
    "from sklearn.metrics import accuracy_score"
   ]
  },
  {
   "cell_type": "code",
   "execution_count": null,
   "metadata": {},
   "outputs": [],
   "source": [
    "device = torch.device(\"cuda:0\" if torch.cuda.is_available() else \"cpu\")\n",
    "print(device)\n",
    "writer = SummaryWriter(\"logs_classification\")\n",
    "torch.manual_seed(42)\n"
   ]
  },
  {
   "cell_type": "code",
   "execution_count": null,
   "metadata": {},
   "outputs": [],
   "source": [
    "class ImageDataset(Dataset):\n",
    "    def __init__(self, list_root_dir: list, transform=None) -> None:\n",
    "        super().__init__()\n",
    "        self.list_root_dir = list_root_dir\n",
    "        self.transform = transform\n",
    "        \n",
    "        self.image_paths = []\n",
    "        for root_dir in list_root_dir:\n",
    "            self.image_paths.extend(glob.glob(os.path.join(root_dir,\"Bald\",\"*.jpg\")))\n",
    "            self.image_paths.extend(glob.glob(os.path.join(root_dir,\"NotBald\",\"*.jpg\")))\n",
    "        # print(f\"Number of images found: {len(self.image_paths)}\")  # Print number of images for debugging\n",
    "        # print(\"Sample Image Paths:\")\n",
    "        # print(self.image_paths[:10])\n",
    "        # print(\"List of Root Directories:\")\n",
    "        # print(self.list_root_dir)\n",
    "        random.shuffle(self.image_paths)\n",
    "\n",
    "    def __len__(self) -> int:\n",
    "        return len(self.image_paths)\n",
    "\n",
    "    def __getitem__(self, index) -> Any:\n",
    "            image_path = self.image_paths[index]\n",
    "            \n",
    "            label = 1 if image_path.split(os.sep)[-2] == \"Bald\" else 0\n",
    "            print(f\"Image Path: {image_path}, Label: {label}\")  # Print image path and label for inspection\n",
    "            image = Image.open(image_path).convert(\"RGB\")\n",
    "            if self.transform:\n",
    "                image = self.transform(image)\n",
    "                \n",
    "            return [image, label]"
   ]
  },
  {
   "cell_type": "code",
   "execution_count": null,
   "metadata": {},
   "outputs": [],
   "source": [
    "mydataset = ImageDataset([\"C:\\HairLossDetection\\Dataset2\"])\n"
   ]
  },
  {
   "cell_type": "code",
   "execution_count": null,
   "metadata": {},
   "outputs": [],
   "source": [
    "def train_model(model, loss_function, optimizer, train_loader, epoch=1):\n",
    "    model.train()\n",
    "    running_loss = 0.0\n",
    "    total_samples = 0\n",
    "    y_true = []\n",
    "    y_pred = []\n",
    "    for data in train_loader:     \n",
    "        images, labels = data\n",
    "        images = images.to(device)\n",
    "        labels = labels.to(device)\n",
    "        # Clear gradient\n",
    "        optimizer.zero_grad()\n",
    "        # Calculate logits\n",
    "        outputs = model(images)\n",
    "        # Calculate loss\n",
    "        loss = loss_function(outputs, labels)\n",
    "        # Calculate gradient from loss\n",
    "        loss.backward()\n",
    "        # Update weight\n",
    "        optimizer.step()\n",
    "\n",
    "        # Calculate loss\n",
    "        running_loss += loss.item() * images.size(0)\n",
    "        # Calculate total sample in data_loader\n",
    "        total_samples += images.size(0)\n",
    "        # Calculte y_predict for evaluation\n",
    "        predicted = torch.argmax(outputs, dim=1)\n",
    "        y_true.extend(labels.cpu().numpy())\n",
    "        y_pred.extend(predicted.detach().cpu().numpy())\n",
    "    loss = running_loss/total_samples\n",
    "    accuracy = accuracy_score(y_true, y_pred)\n",
    "    writer.add_scalar(\"train/loss\", loss, epoch)\n",
    "    writer.add_scalar(\"train/accuracy\", accuracy, epoch)\n",
    "    return loss, accuracy"
   ]
  },
  {
   "cell_type": "code",
   "execution_count": null,
   "metadata": {},
   "outputs": [],
   "source": [
    "def eval_model(model, loss_function, test_dataloader, epoch):\n",
    "    model.eval()\n",
    "    total_samples = 0\n",
    "    total_loss = 0\n",
    "    y_true = []\n",
    "    y_pred = []\n",
    "    with torch.no_grad():\n",
    "        for images, labels in test_dataloader:\n",
    "            images = images.to(device)\n",
    "            labels = labels.to(device)\n",
    "\n",
    "            # Calculate logits\n",
    "            outputs = model(images)\n",
    "            \n",
    "            # Calculate loss of outputs and y_true\n",
    "            loss = loss_function(outputs, labels)\n",
    "            total_loss += loss.item() * images.size(0)\n",
    "            # Calculate total sample\n",
    "            total_samples += images.size(0)\n",
    "            \n",
    "            # Calculte y_predict for evaluation\n",
    "            predicted = torch.argmax(outputs, dim=1)\n",
    "            y_true.extend(labels.cpu().numpy())\n",
    "            y_pred.extend(predicted.detach().cpu().numpy())\n",
    "    loss = total_loss/total_samples\n",
    "    accuracy = accuracy_score(y_true, y_pred)\n",
    "    writer.add_scalar(\"test/loss\", loss, epoch)\n",
    "    writer.add_scalar(\"test/accuracy\", accuracy, epoch)\n",
    "    return loss, accuracy"
   ]
  },
  {
   "cell_type": "code",
   "execution_count": null,
   "metadata": {},
   "outputs": [],
   "source": [
    "model = torchvision.models.resnet34(num_classes=2)\n",
    "model = model.to(device)\n",
    "print(device)"
   ]
  },
  {
   "cell_type": "code",
   "execution_count": null,
   "metadata": {},
   "outputs": [],
   "source": [
    "optimizer = torch.optim.Adam(model.parameters(), lr=0.001)"
   ]
  },
  {
   "cell_type": "code",
   "execution_count": null,
   "metadata": {},
   "outputs": [],
   "source": [
    "loss_function = torch.nn.CrossEntropyLoss()"
   ]
  },
  {
   "cell_type": "code",
   "execution_count": null,
   "metadata": {},
   "outputs": [],
   "source": [
    "list_root_dir = []\n",
    "list_root_dir.append(os.path.join(os.getcwd(), \"Dataset2\"))\n",
    "\n",
    "transform = torchvision.transforms.Compose([\n",
    "    torchvision.transforms.RandomResizedCrop([96,96]),\n",
    "    torchvision.transforms.RandomHorizontalFlip(),\n",
    "    torchvision.transforms.RandomVerticalFlip(),\n",
    "        torchvision.transforms.ToTensor(),\n",
    "    torchvision.transforms.Normalize([0.5,0.5,0.5],[0.5,0.5,0.5])\n",
    "])\n",
    "epoch = 20\n",
    "\n",
    "dataset = ImageDataset(list_root_dir, transform)\n",
    "\n",
    "# Perform train-test split\n",
    "train_dataset, test_dataset = random_split(dataset, [0.8,0.2])\n",
    "train_loader = DataLoader(train_dataset, batch_size=64, shuffle=True)\n",
    "test_loader = DataLoader(test_dataset, batch_size=64, shuffle=True)\n",
    "\n",
    "for i in range(50):\n",
    "    train_loss, train_acc = train_model(model, loss_function, optimizer, train_loader, i)\n",
    "    test_loss, test_acc = eval_model(model, loss_function, test_loader, i)\n",
    "    print(f'''epoch {i}: train_loss {round(train_loss,4)}, train_acc {round(train_acc,4)}, test_loss {test_loss}, test_acc {round(test_acc,4)}''')\n",
    "writer.flush()\n",
    "writer.close()"
   ]
  },
  {
   "cell_type": "code",
   "execution_count": null,
   "metadata": {},
   "outputs": [],
   "source": [
    "file_path = \"classification.pth\"\n",
    "torch.save(model.state_dict(), file_path)"
   ]
  }
 ],
 "metadata": {
  "kernelspec": {
   "display_name": "Python 3",
   "language": "python",
   "name": "python3"
  },
  "language_info": {
   "codemirror_mode": {
    "name": "ipython",
    "version": 3
   },
   "file_extension": ".py",
   "mimetype": "text/x-python",
   "name": "python",
   "nbconvert_exporter": "python",
   "pygments_lexer": "ipython3",
   "version": "3.11.6"
  }
 },
 "nbformat": 4,
 "nbformat_minor": 2
}
